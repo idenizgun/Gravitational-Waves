{
 "cells": [
  {
   "cell_type": "code",
   "execution_count": 1,
   "metadata": {},
   "outputs": [],
   "source": [
    "import sympy as sp\n",
    "import numpy as np\n",
    "#init_printing:\n",
    "from sympy import init_printing\n",
    "init_printing(use_latex=True)\n",
    "import gravipy as gp\n",
    "from gravipy.tensorial import *"
   ]
  },
  {
   "cell_type": "code",
   "execution_count": 44,
   "metadata": {},
   "outputs": [],
   "source": [
    "# our metric: -(1/(H**2*eta**2)),(1/(H**2*eta**2)),(1/(H**2*eta**2))"
   ]
  },
  {
   "cell_type": "code",
   "execution_count": 2,
   "metadata": {},
   "outputs": [],
   "source": [
    "# define some symbolic variables\n",
    "H, eta, x, y= sp.symbols('H, \\eta, x, y')\n",
    "# create a coordinate four-vector object instantiating \n",
    "# the Coordinates class\n",
    "x = Coordinates('\\chi', [eta, x, y])\n",
    "# define a matrix of a metric tensor components\n",
    "Metric = sp.diag(-(1/(H**2*eta**2)),(1/(H**2*eta**2)),(1/(H**2*eta**2)))\n",
    "# create a metric tensor object instantiating the MetricTensor class\n",
    "g = MetricTensor('g', x, Metric)#turn this:  into sympy array:\n",
    "\n"
   ]
  },
  {
   "cell_type": "code",
   "execution_count": 3,
   "metadata": {},
   "outputs": [
    {
     "data": {
      "image/png": "[encoded data removed]",
      "text/latex": [
       "$\\displaystyle \\eta$"
      ],
      "text/plain": [
       "\\eta"
      ]
     },
     "execution_count": 3,
     "metadata": {},
     "output_type": "execute_result"
    }
   ],
   "source": [
    "x(-1)"
   ]
  },
  {
   "cell_type": "code",
   "execution_count": 4,
   "metadata": {},
   "outputs": [
    {
     "data": {
      "image/png": "[encoded data removed]",
      "text/latex": [
       "$\\displaystyle x$"
      ],
      "text/plain": [
       "x"
      ]
     },
     "execution_count": 4,
     "metadata": {},
     "output_type": "execute_result"
    }
   ],
   "source": [
    "x(-2)"
   ]
  },
  {
   "cell_type": "code",
   "execution_count": 5,
   "metadata": {},
   "outputs": [
    {
     "data": {
      "image/png": "[encoded data removed]",
      "text/latex": [
       "$\\displaystyle y$"
      ],
      "text/plain": [
       "y"
      ]
     },
     "execution_count": 5,
     "metadata": {},
     "output_type": "execute_result"
    }
   ],
   "source": [
    "x(-3)"
   ]
  },
  {
   "cell_type": "code",
   "execution_count": 6,
   "metadata": {},
   "outputs": [
    {
     "data": {
      "image/png": "[encoded data removed]",
      "text/latex": [
       "$\\displaystyle - \\frac{1}{H^{2} \\eta^{2}}$"
      ],
      "text/plain": [
       "  -1    \n",
       "────────\n",
       " 2     2\n",
       "H ⋅\\eta "
      ]
     },
     "execution_count": 6,
     "metadata": {},
     "output_type": "execute_result"
    }
   ],
   "source": [
    "g(1,1)"
   ]
  },
  {
   "cell_type": "code",
   "execution_count": 7,
   "metadata": {},
   "outputs": [
    {
     "data": {
      "image/png": "[encoded data removed]",
      "text/latex": [
       "$\\displaystyle 0$"
      ],
      "text/plain": [
       "0"
      ]
     },
     "execution_count": 7,
     "metadata": {},
     "output_type": "execute_result"
    }
   ],
   "source": [
    "g(1,2)"
   ]
  },
  {
   "cell_type": "code",
   "execution_count": 8,
   "metadata": {},
   "outputs": [
    {
     "data": {
      "image/png": "[encoded data removed]",
      "text/latex": [
       "$\\displaystyle \\frac{1}{H^{2} \\eta^{2}}$"
      ],
      "text/plain": [
       "   1    \n",
       "────────\n",
       " 2     2\n",
       "H ⋅\\eta "
      ]
     },
     "execution_count": 8,
     "metadata": {},
     "output_type": "execute_result"
    }
   ],
   "source": [
    "g(2,2)"
   ]
  },
  {
   "cell_type": "code",
   "execution_count": 9,
   "metadata": {},
   "outputs": [
    {
     "data": {
      "image/png": "[encoded data removed]",
      "text/latex": [
       "$\\displaystyle \\frac{1}{H^{2} \\eta^{2}}$"
      ],
      "text/plain": [
       "   1    \n",
       "────────\n",
       " 2     2\n",
       "H ⋅\\eta "
      ]
     },
     "execution_count": 9,
     "metadata": {},
     "output_type": "execute_result"
    }
   ],
   "source": [
    "g(3,3)"
   ]
  },
  {
   "cell_type": "code",
   "execution_count": 10,
   "metadata": {},
   "outputs": [
    {
     "data": {
      "image/png": "[encoded data removed]",
      "text/latex": [
       "$\\displaystyle \\left[\\begin{matrix}- \\frac{1}{H^{2} \\eta^{2}} & 0 & 0\\\\0 & \\frac{1}{H^{2} \\eta^{2}} & 0\\\\0 & 0 & \\frac{1}{H^{2} \\eta^{2}}\\end{matrix}\\right]$"
      ],
      "text/plain": [
       "⎡  -1                        ⎤\n",
       "⎢────────     0         0    ⎥\n",
       "⎢ 2     2                    ⎥\n",
       "⎢H ⋅\\eta                     ⎥\n",
       "⎢                            ⎥\n",
       "⎢             1              ⎥\n",
       "⎢   0      ────────     0    ⎥\n",
       "⎢           2     2          ⎥\n",
       "⎢          H ⋅\\eta           ⎥\n",
       "⎢                            ⎥\n",
       "⎢                       1    ⎥\n",
       "⎢   0         0      ────────⎥\n",
       "⎢                     2     2⎥\n",
       "⎣                    H ⋅\\eta ⎦"
      ]
     },
     "execution_count": 10,
     "metadata": {},
     "output_type": "execute_result"
    }
   ],
   "source": [
    "g(All,All)"
   ]
  },
  {
   "cell_type": "code",
   "execution_count": 13,
   "metadata": {},
   "outputs": [
    {
     "data": {
      "image/png": "[encoded data removed]",
      "text/latex": [
       "$\\displaystyle \\left[\\begin{matrix}- H^{2} \\eta^{2} & 0 & 0\\\\0 & H^{2} \\eta^{2} & 0\\\\0 & 0 & H^{2} \\eta^{2}\\end{matrix}\\right]$"
      ],
      "text/plain": [
       "⎡  2     2                    ⎤\n",
       "⎢-H ⋅\\eta      0         0    ⎥\n",
       "⎢                             ⎥\n",
       "⎢            2     2          ⎥\n",
       "⎢    0      H ⋅\\eta      0    ⎥\n",
       "⎢                             ⎥\n",
       "⎢                      2     2⎥\n",
       "⎣    0         0      H ⋅\\eta ⎦"
      ]
     },
     "execution_count": 13,
     "metadata": {},
     "output_type": "execute_result"
    }
   ],
   "source": [
    "#write contravariant metric tensor:\n",
    "g(-All,-All)"
   ]
  },
  {
   "cell_type": "code",
   "execution_count": 11,
   "metadata": {},
   "outputs": [
    {
     "name": "stdout",
     "output_type": "stream",
     "text": [
      "['Christoffel', 'Ricci', 'Riemann', 'Einstein', 'Geodesic']\n"
     ]
    }
   ],
   "source": [
    "print([cls.__name__ for cls in vars()['Tensor'].__subclasses__()])"
   ]
  },
  {
   "cell_type": "code",
   "execution_count": 14,
   "metadata": {},
   "outputs": [
    {
     "data": {
      "image/png": "[encoded data removed]",
      "text/latex": [
       "$\\displaystyle \\left[\\begin{matrix}\\left[\\begin{matrix}\\frac{1}{H^{2} \\eta^{3}} & 0 & 0\\\\0 & \\frac{1}{H^{2} \\eta^{3}} & 0\\\\0 & 0 & \\frac{1}{H^{2} \\eta^{3}}\\end{matrix}\\right] & \\left[\\begin{matrix}0 & - \\frac{1}{H^{2} \\eta^{3}} & 0\\\\- \\frac{1}{H^{2} \\eta^{3}} & 0 & 0\\\\0 & 0 & 0\\end{matrix}\\right] & \\left[\\begin{matrix}0 & 0 & - \\frac{1}{H^{2} \\eta^{3}}\\\\0 & 0 & 0\\\\- \\frac{1}{H^{2} \\eta^{3}} & 0 & 0\\end{matrix}\\right]\\end{matrix}\\right]$"
      ],
      "text/plain": [
       "⎡⎡   1                        ⎤                                               \n",
       "⎢⎢────────     0         0    ⎥                                               \n",
       "⎢⎢ 2     3                    ⎥  ⎡            -1       ⎤  ⎡               -1  \n",
       "⎢⎢H ⋅\\eta                     ⎥  ⎢   0      ────────  0⎥  ⎢   0      0  ──────\n",
       "⎢⎢                            ⎥  ⎢           2     3   ⎥  ⎢              2    \n",
       "⎢⎢             1              ⎥  ⎢          H ⋅\\eta    ⎥  ⎢             H ⋅\\et\n",
       "⎢⎢   0      ────────     0    ⎥  ⎢                     ⎥  ⎢                   \n",
       "⎢⎢           2     3          ⎥  ⎢  -1                 ⎥  ⎢   0      0     0  \n",
       "⎢⎢          H ⋅\\eta           ⎥  ⎢────────     0      0⎥  ⎢                   \n",
       "⎢⎢                            ⎥  ⎢ 2     3             ⎥  ⎢  -1               \n",
       "⎢⎢                       1    ⎥  ⎢H ⋅\\eta              ⎥  ⎢────────  0     0  \n",
       "⎢⎢   0         0      ────────⎥  ⎢                     ⎥  ⎢ 2     3           \n",
       "⎢⎢                     2     3⎥  ⎣   0         0      0⎦  ⎣H ⋅\\eta            \n",
       "⎣⎣                    H ⋅\\eta ⎦                                               \n",
       "\n",
       "   ⎤\n",
       "   ⎥\n",
       "  ⎤⎥\n",
       "──⎥⎥\n",
       " 3⎥⎥\n",
       "a ⎥⎥\n",
       "  ⎥⎥\n",
       "  ⎥⎥\n",
       "  ⎥⎥\n",
       "  ⎥⎥\n",
       "  ⎥⎥\n",
       "  ⎥⎥\n",
       "  ⎦⎥\n",
       "   ⎦"
      ]
     },
     "execution_count": 14,
     "metadata": {},
     "output_type": "execute_result"
    }
   ],
   "source": [
    "Ga=Christoffel('Ga',g)\n",
    "Ga(All,All,All)"
   ]
  },
  {
   "cell_type": "code",
   "execution_count": 16,
   "metadata": {},
   "outputs": [
    {
     "name": "stdout",
     "output_type": "stream",
     "text": [
      "Help on class Christoffel in module gravipy.tensorial:\n",
      "\n",
      "class Christoffel(Tensor)\n",
      " |  Christoffel(symbol, metric, *args, **kwargs)\n",
      " |  \n",
      " |  Christoffel.\n",
      " |  \n",
      " |  Represents a class of Christoffel symbols of the first and second kind.\n",
      " |  \n",
      " |  Parameters\n",
      " |  ==========\n",
      " |  \n",
      " |  symbol : python string - name of the Christoffel symbol\n",
      " |  metric : GraviPy MtricTensor object\n",
      " |  \n",
      " |  Examples\n",
      " |  ========\n",
      " |  \n",
      " |  Define a Christoffel symbols for the Schwarzschild metric:\n",
      " |  \n",
      " |  >>> from gravipy.tensorial import *\n",
      " |  >>> t, r, theta, phi = symbols('t, r, \\\\theta, \\phi')\n",
      " |  >>> chi = Coordinates('\\chi', [t, r, theta, phi])\n",
      " |  >>> M = Symbol('M')\n",
      " |  >>> Metric = diag(-(1 - 2 * M / r), 1 / (1 - 2 * M / r), r ** 2,\n",
      " |  ...                  r ** 2 * sin(theta) ** 2)\n",
      " |  >>> g = MetricTensor('g', chi, Metric)\n",
      " |  >>> Ga = Christoffel('Ga', g)\n",
      " |  >>> Ga(-1, 2, 1)\n",
      " |  -M/(r*(2*M - r))\n",
      " |  >>> Ga(2, All, All)\n",
      " |  Matrix([\n",
      " |  [M/r**2,               0,  0,                 0],\n",
      " |  [     0, -M/(2*M - r)**2,  0,                 0],\n",
      " |  [     0,               0, -r,                 0],\n",
      " |  [     0,               0,  0, -r*sin(\\theta)**2]])\n",
      " |  >>> Ga(1, -1, 2) # doctest: +IGNORE_EXCEPTION_DETAIL\n",
      " |  Traceback (most recent call last):\n",
      " |  GraviPyError: \"Tensor component Ga(1, -1, 2) doesn't  exist\"\n",
      " |  \n",
      " |  Method resolution order:\n",
      " |      Christoffel\n",
      " |      Tensor\n",
      " |      GeneralTensor\n",
      " |      builtins.object\n",
      " |  \n",
      " |  Methods defined here:\n",
      " |  \n",
      " |  __init__(self, symbol, metric, *args, **kwargs)\n",
      " |      Initialize self.  See help(type(self)) for accurate signature.\n",
      " |  \n",
      " |  ----------------------------------------------------------------------\n",
      " |  Data and other attributes inherited from Tensor:\n",
      " |  \n",
      " |  TensorObjects = [<gravipy.tensorial.Christoffel object>]\n",
      " |  \n",
      " |  ----------------------------------------------------------------------\n",
      " |  Methods inherited from GeneralTensor:\n",
      " |  \n",
      " |  __call__(self, *idxs)\n",
      " |      Call self as a function.\n",
      " |  \n",
      " |  covariantD(self, *idxs)\n",
      " |  \n",
      " |  partialD(self, *idxs)\n",
      " |  \n",
      " |  ----------------------------------------------------------------------\n",
      " |  Static methods inherited from GeneralTensor:\n",
      " |  \n",
      " |  get_nmatrixel(M, idxs)\n",
      " |  \n",
      " |  ----------------------------------------------------------------------\n",
      " |  Data descriptors inherited from GeneralTensor:\n",
      " |  \n",
      " |  __dict__\n",
      " |      dictionary for instance variables (if defined)\n",
      " |  \n",
      " |  __weakref__\n",
      " |      list of weak references to the object (if defined)\n",
      " |  \n",
      " |  ----------------------------------------------------------------------\n",
      " |  Data and other attributes inherited from GeneralTensor:\n",
      " |  \n",
      " |  GeneralTensorObjects = [<gravipy.tensorial.Coordinates object>, <gravi...\n",
      "\n"
     ]
    }
   ],
   "source": [
    "help(Christoffel)"
   ]
  },
  {
   "cell_type": "code",
   "execution_count": 61,
   "metadata": {},
   "outputs": [
    {
     "data": {
      "image/png": "[encoded data removed]",
      "text/latex": [
       "$\\displaystyle \\left[\\begin{matrix}\\left[\\begin{matrix}0 & 0 & 0\\\\0 & 0 & 0\\\\0 & 0 & 0\\end{matrix}\\right] & \\left[\\begin{matrix}0 & - \\frac{1}{H^{2} \\eta^{4}} & 0\\\\\\frac{1}{H^{2} \\eta^{4}} & 0 & 0\\\\0 & 0 & 0\\end{matrix}\\right] & \\left[\\begin{matrix}0 & 0 & - \\frac{1}{H^{2} \\eta^{4}}\\\\0 & 0 & 0\\\\\\frac{1}{H^{2} \\eta^{4}} & 0 & 0\\end{matrix}\\right]\\\\\\left[\\begin{matrix}0 & \\frac{1}{H^{2} \\eta^{4}} & 0\\\\- \\frac{1}{H^{2} \\eta^{4}} & 0 & 0\\\\0 & 0 & 0\\end{matrix}\\right] & \\left[\\begin{matrix}0 & 0 & 0\\\\0 & 0 & 0\\\\0 & 0 & 0\\end{matrix}\\right] & \\left[\\begin{matrix}0 & 0 & 0\\\\0 & 0 & \\frac{1}{H^{2} \\eta^{4}}\\\\0 & - \\frac{1}{H^{2} \\eta^{4}} & 0\\end{matrix}\\right]\\\\\\left[\\begin{matrix}0 & 0 & \\frac{1}{H^{2} \\eta^{4}}\\\\0 & 0 & 0\\\\- \\frac{1}{H^{2} \\eta^{4}} & 0 & 0\\end{matrix}\\right] & \\left[\\begin{matrix}0 & 0 & 0\\\\0 & 0 & - \\frac{1}{H^{2} \\eta^{4}}\\\\0 & \\frac{1}{H^{2} \\eta^{4}} & 0\\end{matrix}\\right] & \\left[\\begin{matrix}0 & 0 & 0\\\\0 & 0 & 0\\\\0 & 0 & 0\\end{matrix}\\right]\\end{matrix}\\right]$"
      ],
      "text/plain": [
       "⎡                         ⎡            -1       ⎤  ⎡               -1    ⎤⎤\n",
       "⎢                         ⎢   0      ────────  0⎥  ⎢   0      0  ────────⎥⎥\n",
       "⎢                         ⎢           2     4   ⎥  ⎢              2     4⎥⎥\n",
       "⎢       ⎡0  0  0⎤         ⎢          H ⋅\\eta    ⎥  ⎢             H ⋅\\eta ⎥⎥\n",
       "⎢       ⎢       ⎥         ⎢                     ⎥  ⎢                     ⎥⎥\n",
       "⎢       ⎢0  0  0⎥         ⎢   1                 ⎥  ⎢   0      0     0    ⎥⎥\n",
       "⎢       ⎢       ⎥         ⎢────────     0      0⎥  ⎢                     ⎥⎥\n",
       "⎢       ⎣0  0  0⎦         ⎢ 2     4             ⎥  ⎢   1                 ⎥⎥\n",
       "⎢                         ⎢H ⋅\\eta              ⎥  ⎢────────  0     0    ⎥⎥\n",
       "⎢                         ⎢                     ⎥  ⎢ 2     4             ⎥⎥\n",
       "⎢                         ⎣   0         0      0⎦  ⎣H ⋅\\eta              ⎦⎥\n",
       "⎢                                                                         ⎥\n",
       "⎢⎡             1       ⎤                           ⎡0     0         0    ⎤⎥\n",
       "⎢⎢   0      ────────  0⎥                           ⎢                     ⎥⎥\n",
       "⎢⎢           2     4   ⎥                           ⎢                1    ⎥⎥\n",
       "⎢⎢          H ⋅\\eta    ⎥         ⎡0  0  0⎤         ⎢0     0      ────────⎥⎥\n",
       "⎢⎢                     ⎥         ⎢       ⎥         ⎢              2     4⎥⎥\n",
       "⎢⎢  -1                 ⎥         ⎢0  0  0⎥         ⎢             H ⋅\\eta ⎥⎥\n",
       "⎢⎢────────     0      0⎥         ⎢       ⎥         ⎢                     ⎥⎥\n",
       "⎢⎢ 2     4             ⎥         ⎣0  0  0⎦         ⎢     -1              ⎥⎥\n",
       "⎢⎢H ⋅\\eta              ⎥                           ⎢0  ────────     0    ⎥⎥\n",
       "⎢⎢                     ⎥                           ⎢    2     4          ⎥⎥\n",
       "⎢⎣   0         0      0⎦                           ⎣   H ⋅\\eta           ⎦⎥\n",
       "⎢                                                                         ⎥\n",
       "⎢⎡                1    ⎤  ⎡0     0         0    ⎤                         ⎥\n",
       "⎢⎢   0      0  ────────⎥  ⎢                     ⎥                         ⎥\n",
       "⎢⎢              2     4⎥  ⎢               -1    ⎥                         ⎥\n",
       "⎢⎢             H ⋅\\eta ⎥  ⎢0     0      ────────⎥         ⎡0  0  0⎤       ⎥\n",
       "⎢⎢                     ⎥  ⎢              2     4⎥         ⎢       ⎥       ⎥\n",
       "⎢⎢   0      0     0    ⎥  ⎢             H ⋅\\eta ⎥         ⎢0  0  0⎥       ⎥\n",
       "⎢⎢                     ⎥  ⎢                     ⎥         ⎢       ⎥       ⎥\n",
       "⎢⎢  -1                 ⎥  ⎢      1              ⎥         ⎣0  0  0⎦       ⎥\n",
       "⎢⎢────────  0     0    ⎥  ⎢0  ────────     0    ⎥                         ⎥\n",
       "⎢⎢ 2     4             ⎥  ⎢    2     4          ⎥                         ⎥\n",
       "⎣⎣H ⋅\\eta              ⎦  ⎣   H ⋅\\eta           ⎦                         ⎦"
      ]
     },
     "execution_count": 61,
     "metadata": {},
     "output_type": "execute_result"
    }
   ],
   "source": [
    "Rm=Riemann('Rm',g)\n",
    "Rm(All,All,All,All)"
   ]
  },
  {
   "cell_type": "code",
   "execution_count": 63,
   "metadata": {},
   "outputs": [
    {
     "name": "stdout",
     "output_type": "stream",
     "text": [
      "Help on class Riemann in module gravipy.tensorial:\n",
      "\n",
      "class Riemann(Tensor)\n",
      " |  Riemann(symbol, metric, *args, **kwargs)\n",
      " |  \n",
      " |  Riemann.\n",
      " |  \n",
      " |  Represents a class of Riemann Tensors.\n",
      " |  \n",
      " |  Parameters\n",
      " |  ==========\n",
      " |  \n",
      " |  symbol : python string - name of the Riemann Tensor\n",
      " |  metric : GraviPy MtricTensor object\n",
      " |  \n",
      " |  Examples\n",
      " |  ========\n",
      " |  \n",
      " |  Define and calculate some components of the Riemann Curvature Tensor\n",
      " |  for the Schwarzschild Metric:\n",
      " |  \n",
      " |  >>> from gravipy.tensorial import *\n",
      " |  >>> t, r, theta, phi = symbols('t, r, \\\\theta, \\phi')\n",
      " |  >>> chi = Coordinates('\\chi', [t, r, theta, phi])\n",
      " |  >>> M = Symbol('M')\n",
      " |  >>> Metric = diag(-(1 - 2 * M / r), 1 / (1 - 2 * M / r), r ** 2,\n",
      " |  ...                  r ** 2 * sin(theta) ** 2)\n",
      " |  >>> g = MetricTensor('g', chi, Metric)\n",
      " |  >>> Rm = Riemann('Rm', g) # doctest: +IGNORE_EXCEPTION_DETAIL\n",
      " |  Traceback (most recent call last):\n",
      " |  GraviPyError: 'Christoffel object for metric g is required'\n",
      " |  >>> Ga = Christoffel('Ga', g)\n",
      " |  >>> Rm = Riemann('Rm', g)\n",
      " |  >>> Rm(1, -3, -1, 3)\n",
      " |  M*(-2*M + r)/(r**3*(2*M - r))\n",
      " |  >>> Rm(1, All, 1, All)\n",
      " |  Matrix([\n",
      " |  [0,         0,                 0,                                0],\n",
      " |  [0, -2*M/r**3,                 0,                                0],\n",
      " |  [0,         0, M*(-2*M + r)/r**2,                                0],\n",
      " |  [0,         0,                 0, M*(-2*M + r)*sin(\\theta)**2/r**2]])\n",
      " |  \n",
      " |  Several ways that one can contract the Riemann Tensor:\n",
      " |  - by manual creation of SymPy Matrix object\n",
      " |  >>> Matrix(4, 4, lambda i, j: sum(Rm(-k, i+1, k, j+1)\n",
      " |  ...                                  for k in range(1,5)).simplify())\n",
      " |  Matrix([\n",
      " |  [0, 0, 0, 0],\n",
      " |  [0, 0, 0, 0],\n",
      " |  [0, 0, 0, 0],\n",
      " |  [0, 0, 0, 0]])\n",
      " |  \n",
      " |  - using sum or reduce and GraviPy Matrix creation procedure\n",
      " |  >>> cRm = sum([Rm(-i, All, i, All) for i in range(1, 5)], zeros(4))\n",
      " |  >>> cRm = reduce(Matrix.add, [Rm(-i, All, i, All) for i in range(1, 5)])\n",
      " |  >>> cRm.simplify()\n",
      " |  >>> cRm\n",
      " |  Matrix([\n",
      " |  [0, 0, 0, 0],\n",
      " |  [0, 0, 0, 0],\n",
      " |  [0, 0, 0, 0],\n",
      " |  [0, 0, 0, 0]])\n",
      " |  \n",
      " |  - by creation of a new Tensor object\n",
      " |  >>> cRm = Tensor('cRm', 2, g)\n",
      " |  >>> def cov_component(idxs):\n",
      " |  ...        return sum(Rm(-i, idxs[0], i, idxs[1])\n",
      " |  ...                   for i in range(1, 5)).simplify()\n",
      " |  >>> cRm._compute_covariant_component = cov_component\n",
      " |  >>> cRm(All, All)\n",
      " |  Matrix([\n",
      " |  [0, 0, 0, 0],\n",
      " |  [0, 0, 0, 0],\n",
      " |  [0, 0, 0, 0],\n",
      " |  [0, 0, 0, 0]])\n",
      " |  \n",
      " |  Method resolution order:\n",
      " |      Riemann\n",
      " |      Tensor\n",
      " |      GeneralTensor\n",
      " |      builtins.object\n",
      " |  \n",
      " |  Methods defined here:\n",
      " |  \n",
      " |  __init__(self, symbol, metric, *args, **kwargs)\n",
      " |      Initialize self.  See help(type(self)) for accurate signature.\n",
      " |  \n",
      " |  ----------------------------------------------------------------------\n",
      " |  Data and other attributes inherited from Tensor:\n",
      " |  \n",
      " |  TensorObjects = [<gravipy.tensorial.Christoffel object>, <gravipy.tens...\n",
      " |  \n",
      " |  ----------------------------------------------------------------------\n",
      " |  Methods inherited from GeneralTensor:\n",
      " |  \n",
      " |  __call__(self, *idxs)\n",
      " |      Call self as a function.\n",
      " |  \n",
      " |  covariantD(self, *idxs)\n",
      " |  \n",
      " |  partialD(self, *idxs)\n",
      " |  \n",
      " |  ----------------------------------------------------------------------\n",
      " |  Static methods inherited from GeneralTensor:\n",
      " |  \n",
      " |  get_nmatrixel(M, idxs)\n",
      " |  \n",
      " |  ----------------------------------------------------------------------\n",
      " |  Data descriptors inherited from GeneralTensor:\n",
      " |  \n",
      " |  __dict__\n",
      " |      dictionary for instance variables (if defined)\n",
      " |  \n",
      " |  __weakref__\n",
      " |      list of weak references to the object (if defined)\n",
      " |  \n",
      " |  ----------------------------------------------------------------------\n",
      " |  Data and other attributes inherited from GeneralTensor:\n",
      " |  \n",
      " |  GeneralTensorObjects = [<gravipy.tensorial.Coordinates object>, <gravi...\n",
      "\n"
     ]
    }
   ],
   "source": [
    "help(Riemann)"
   ]
  },
  {
   "cell_type": "code",
   "execution_count": 64,
   "metadata": {},
   "outputs": [
    {
     "data": {
      "image/png": "[encoded data removed]",
      "text/latex": [
       "$\\displaystyle \\left[\\begin{matrix}- \\frac{2}{\\eta^{2}} & 0 & 0\\\\0 & \\frac{2}{\\eta^{2}} & 0\\\\0 & 0 & \\frac{2}{\\eta^{2}}\\end{matrix}\\right]$"
      ],
      "text/plain": [
       "⎡ -2                ⎤\n",
       "⎢─────    0      0  ⎥\n",
       "⎢    2              ⎥\n",
       "⎢\\eta               ⎥\n",
       "⎢                   ⎥\n",
       "⎢         2         ⎥\n",
       "⎢  0    ─────    0  ⎥\n",
       "⎢           2       ⎥\n",
       "⎢       \\eta        ⎥\n",
       "⎢                   ⎥\n",
       "⎢                2  ⎥\n",
       "⎢  0      0    ─────⎥\n",
       "⎢                  2⎥\n",
       "⎣              \\eta ⎦"
      ]
     },
     "execution_count": 64,
     "metadata": {},
     "output_type": "execute_result"
    }
   ],
   "source": [
    "Ri=Ricci('Ri',g)\n",
    "Ri(All,All)"
   ]
  },
  {
   "cell_type": "code",
   "execution_count": 65,
   "metadata": {},
   "outputs": [
    {
     "data": {
      "image/png": "[encoded data removed]",
      "text/latex": [
       "$\\displaystyle 6 H^{2}$"
      ],
      "text/plain": [
       "   2\n",
       "6⋅H "
      ]
     },
     "execution_count": 65,
     "metadata": {},
     "output_type": "execute_result"
    }
   ],
   "source": [
    "Ri.scalar()"
   ]
  },
  {
   "cell_type": "code",
   "execution_count": null,
   "metadata": {},
   "outputs": [],
   "source": []
  }
 ],
 "metadata": {
  "kernelspec": {
   "display_name": "Python 3",
   "language": "python",
   "name": "python3"
  },
  "language_info": {
   "codemirror_mode": {
    "name": "ipython",
    "version": 3
   },
   "file_extension": ".py",
   "mimetype": "text/x-python",
   "name": "python",
   "nbconvert_exporter": "python",
   "pygments_lexer": "ipython3",
   "version": "3.9.0"
  },
  "orig_nbformat": 4
 },
 "nbformat": 4,
 "nbformat_minor": 2
}
