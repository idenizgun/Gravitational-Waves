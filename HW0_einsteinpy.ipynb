{
 "cells": [
  {
   "cell_type": "code",
   "execution_count": 1,
   "metadata": {},
   "outputs": [],
   "source": [
    "import sympy as sp\n",
    "import numpy as np\n",
    "#init_printing:\n",
    "from sympy import init_printing\n",
    "init_printing(use_latex=True)\n",
    "from einsteinpy.symbolic import MetricTensor, ChristoffelSymbols, RiemannCurvatureTensor, RicciTensor, RicciScalar"
   ]
  },
  {
   "cell_type": "code",
   "execution_count": 2,
   "metadata": {},
   "outputs": [],
   "source": [
    "# our metric: -(1/(H**2*eta**2)),(1/(H**2*eta**2)),(1/(H**2*eta**2))"
   ]
  },
  {
   "cell_type": "code",
   "execution_count": 6,
   "metadata": {},
   "outputs": [],
   "source": [
    "H, eta, x, y= sp.symbols('H, \\eta, x, y')\n"
   ]
  },
  {
   "cell_type": "code",
   "execution_count": 7,
   "metadata": {},
   "outputs": [
    {
     "data": {
      "image/png": "[encoded data removed]",
      "text/latex": [
       "$\\displaystyle \\left[ \\left[ 0, \\  0, \\  0\\right], \\  \\left[ 0, \\  0, \\  0\\right], \\  \\left[ 0, \\  0, \\  0\\right]\\right]$"
      ],
      "text/plain": [
       "[[0, 0, 0], [0, 0, 0], [0, 0, 0]]"
      ]
     },
     "execution_count": 7,
     "metadata": {},
     "output_type": "execute_result"
    }
   ],
   "source": [
    "syms = sp.symbols('eta, x, y')\n",
    "metric = [[0 for i in range(3)] for i in range(3)]\n",
    "metric"
   ]
  },
  {
   "cell_type": "code",
   "execution_count": 8,
   "metadata": {},
   "outputs": [
    {
     "data": {
      "image/png": "[encoded data removed]",
      "text/latex": [
       "$\\displaystyle \\left[\\begin{matrix}- \\frac{1}{H^{2} \\eta^{2}} & 0 & 0\\\\0 & \\frac{1}{H^{2} \\eta^{2}} & 0\\\\0 & 0 & \\frac{1}{H^{2} \\eta^{2}}\\end{matrix}\\right]$"
      ],
      "text/plain": [
       "⎡ -1                ⎤\n",
       "⎢─────    0      0  ⎥\n",
       "⎢ 2  2              ⎥\n",
       "⎢H ⋅η               ⎥\n",
       "⎢                   ⎥\n",
       "⎢         1         ⎥\n",
       "⎢  0    ─────    0  ⎥\n",
       "⎢        2  2       ⎥\n",
       "⎢       H ⋅η        ⎥\n",
       "⎢                   ⎥\n",
       "⎢                1  ⎥\n",
       "⎢  0      0    ─────⎥\n",
       "⎢               2  2⎥\n",
       "⎣              H ⋅η ⎦"
      ]
     },
     "execution_count": 8,
     "metadata": {},
     "output_type": "execute_result"
    }
   ],
   "source": [
    "metric[0][0] = -1/(H**2*syms[0]**2)\n",
    "metric[1][1] = 1/(H**2*syms[0]**2)\n",
    "metric[2][2] = 1/(H**2*syms[0]**2)\n",
    "m_obj = MetricTensor(metric, syms)\n",
    "m_obj.tensor()"
   ]
  },
  {
   "cell_type": "code",
   "execution_count": 9,
   "metadata": {},
   "outputs": [
    {
     "data": {
      "image/png": "[encoded data removed]",
      "text/latex": [
       "$\\displaystyle \\left[\\begin{matrix}\\left[\\begin{matrix}- \\frac{1}{\\eta} & 0 & 0\\\\0 & - \\frac{1}{\\eta} & 0\\\\0 & 0 & - \\frac{1}{\\eta}\\end{matrix}\\right] & \\left[\\begin{matrix}0 & - \\frac{1}{\\eta} & 0\\\\- \\frac{1}{\\eta} & 0 & 0\\\\0 & 0 & 0\\end{matrix}\\right] & \\left[\\begin{matrix}0 & 0 & - \\frac{1}{\\eta}\\\\0 & 0 & 0\\\\- \\frac{1}{\\eta} & 0 & 0\\end{matrix}\\right]\\end{matrix}\\right]$"
      ],
      "text/plain": [
       "⎡⎡-1           ⎤                              ⎤\n",
       "⎢⎢───   0    0 ⎥  ⎡     -1    ⎤  ⎡        -1 ⎤⎥\n",
       "⎢⎢ η           ⎥  ⎢ 0   ───  0⎥  ⎢ 0   0  ───⎥⎥\n",
       "⎢⎢             ⎥  ⎢      η    ⎥  ⎢         η ⎥⎥\n",
       "⎢⎢     -1      ⎥  ⎢           ⎥  ⎢           ⎥⎥\n",
       "⎢⎢ 0   ───   0 ⎥  ⎢-1         ⎥  ⎢ 0   0   0 ⎥⎥\n",
       "⎢⎢      η      ⎥  ⎢───   0   0⎥  ⎢           ⎥⎥\n",
       "⎢⎢             ⎥  ⎢ η         ⎥  ⎢-1         ⎥⎥\n",
       "⎢⎢          -1 ⎥  ⎢           ⎥  ⎢───  0   0 ⎥⎥\n",
       "⎢⎢ 0    0   ───⎥  ⎣ 0    0   0⎦  ⎣ η         ⎦⎥\n",
       "⎣⎣           η ⎦                              ⎦"
      ]
     },
     "execution_count": 9,
     "metadata": {},
     "output_type": "execute_result"
    }
   ],
   "source": [
    "ch = ChristoffelSymbols.from_metric(m_obj)\n",
    "ch.tensor()"
   ]
  },
  {
   "cell_type": "code",
   "execution_count": 10,
   "metadata": {},
   "outputs": [
    {
     "data": {
      "image/png": "[encoded data removed]",
      "text/latex": [
       "$\\displaystyle \\left[\\begin{matrix}\\left[\\begin{matrix}0 & 0 & 0\\\\0 & 0 & 0\\\\0 & 0 & 0\\end{matrix}\\right] & \\left[\\begin{matrix}0 & \\frac{1}{\\eta^{2}} & 0\\\\- \\frac{1}{\\eta^{2}} & 0 & 0\\\\0 & 0 & 0\\end{matrix}\\right] & \\left[\\begin{matrix}0 & 0 & \\frac{1}{\\eta^{2}}\\\\0 & 0 & 0\\\\- \\frac{1}{\\eta^{2}} & 0 & 0\\end{matrix}\\right]\\\\\\left[\\begin{matrix}0 & \\frac{1}{\\eta^{2}} & 0\\\\- \\frac{1}{\\eta^{2}} & 0 & 0\\\\0 & 0 & 0\\end{matrix}\\right] & \\left[\\begin{matrix}0 & 0 & 0\\\\0 & 0 & 0\\\\0 & 0 & 0\\end{matrix}\\right] & \\left[\\begin{matrix}0 & 0 & 0\\\\0 & 0 & \\frac{1}{\\eta^{2}}\\\\0 & - \\frac{1}{\\eta^{2}} & 0\\end{matrix}\\right]\\\\\\left[\\begin{matrix}0 & 0 & \\frac{1}{\\eta^{2}}\\\\0 & 0 & 0\\\\- \\frac{1}{\\eta^{2}} & 0 & 0\\end{matrix}\\right] & \\left[\\begin{matrix}0 & 0 & 0\\\\0 & 0 & - \\frac{1}{\\eta^{2}}\\\\0 & \\frac{1}{\\eta^{2}} & 0\\end{matrix}\\right] & \\left[\\begin{matrix}0 & 0 & 0\\\\0 & 0 & 0\\\\0 & 0 & 0\\end{matrix}\\right]\\end{matrix}\\right]$"
      ],
      "text/plain": [
       "⎡              ⎡     1    ⎤  ⎡        1 ⎤⎤\n",
       "⎢              ⎢ 0   ──  0⎥  ⎢ 0   0  ──⎥⎥\n",
       "⎢              ⎢      2   ⎥  ⎢         2⎥⎥\n",
       "⎢ ⎡0  0  0⎤    ⎢     η    ⎥  ⎢        η ⎥⎥\n",
       "⎢ ⎢       ⎥    ⎢          ⎥  ⎢          ⎥⎥\n",
       "⎢ ⎢0  0  0⎥    ⎢-1        ⎥  ⎢ 0   0  0 ⎥⎥\n",
       "⎢ ⎢       ⎥    ⎢───  0   0⎥  ⎢          ⎥⎥\n",
       "⎢ ⎣0  0  0⎦    ⎢  2       ⎥  ⎢-1        ⎥⎥\n",
       "⎢              ⎢ η        ⎥  ⎢───  0  0 ⎥⎥\n",
       "⎢              ⎢          ⎥  ⎢  2       ⎥⎥\n",
       "⎢              ⎣ 0   0   0⎦  ⎣ η        ⎦⎥\n",
       "⎢                                        ⎥\n",
       "⎢⎡     1    ⎤                ⎡0   0   0 ⎤⎥\n",
       "⎢⎢ 0   ──  0⎥                ⎢          ⎥⎥\n",
       "⎢⎢      2   ⎥                ⎢        1 ⎥⎥\n",
       "⎢⎢     η    ⎥   ⎡0  0  0⎤    ⎢0   0   ──⎥⎥\n",
       "⎢⎢          ⎥   ⎢       ⎥    ⎢         2⎥⎥\n",
       "⎢⎢-1        ⎥   ⎢0  0  0⎥    ⎢        η ⎥⎥\n",
       "⎢⎢───  0   0⎥   ⎢       ⎥    ⎢          ⎥⎥\n",
       "⎢⎢  2       ⎥   ⎣0  0  0⎦    ⎢   -1     ⎥⎥\n",
       "⎢⎢ η        ⎥                ⎢0  ───  0 ⎥⎥\n",
       "⎢⎢          ⎥                ⎢     2    ⎥⎥\n",
       "⎢⎣ 0   0   0⎦                ⎣    η     ⎦⎥\n",
       "⎢                                        ⎥\n",
       "⎢⎡        1 ⎤  ⎡0  0    0 ⎤              ⎥\n",
       "⎢⎢ 0   0  ──⎥  ⎢          ⎥              ⎥\n",
       "⎢⎢         2⎥  ⎢       -1 ⎥              ⎥\n",
       "⎢⎢        η ⎥  ⎢0  0   ───⎥   ⎡0  0  0⎤  ⎥\n",
       "⎢⎢          ⎥  ⎢         2⎥   ⎢       ⎥  ⎥\n",
       "⎢⎢ 0   0  0 ⎥  ⎢        η ⎥   ⎢0  0  0⎥  ⎥\n",
       "⎢⎢          ⎥  ⎢          ⎥   ⎢       ⎥  ⎥\n",
       "⎢⎢-1        ⎥  ⎢   1      ⎥   ⎣0  0  0⎦  ⎥\n",
       "⎢⎢───  0  0 ⎥  ⎢0  ──   0 ⎥              ⎥\n",
       "⎢⎢  2       ⎥  ⎢    2     ⎥              ⎥\n",
       "⎣⎣ η        ⎦  ⎣   η      ⎦              ⎦"
      ]
     },
     "execution_count": 10,
     "metadata": {},
     "output_type": "execute_result"
    }
   ],
   "source": [
    "rm1 = RiemannCurvatureTensor.from_christoffels(ch)\n",
    "rm1.tensor()"
   ]
  },
  {
   "cell_type": "code",
   "execution_count": 11,
   "metadata": {},
   "outputs": [
    {
     "data": {
      "image/png": "[encoded data removed]",
      "text/latex": [
       "$\\displaystyle \\left[\\begin{matrix}\\left[\\begin{matrix}0 & 0 & 0\\\\0 & 0 & 0\\\\0 & 0 & 0\\end{matrix}\\right] & \\left[\\begin{matrix}0 & \\frac{1}{\\eta^{2}} & 0\\\\- \\frac{1}{\\eta^{2}} & 0 & 0\\\\0 & 0 & 0\\end{matrix}\\right] & \\left[\\begin{matrix}0 & 0 & \\frac{1}{\\eta^{2}}\\\\0 & 0 & 0\\\\- \\frac{1}{\\eta^{2}} & 0 & 0\\end{matrix}\\right]\\\\\\left[\\begin{matrix}0 & \\frac{1}{\\eta^{2}} & 0\\\\- \\frac{1}{\\eta^{2}} & 0 & 0\\\\0 & 0 & 0\\end{matrix}\\right] & \\left[\\begin{matrix}0 & 0 & 0\\\\0 & 0 & 0\\\\0 & 0 & 0\\end{matrix}\\right] & \\left[\\begin{matrix}0 & 0 & 0\\\\0 & 0 & \\frac{1}{\\eta^{2}}\\\\0 & - \\frac{1}{\\eta^{2}} & 0\\end{matrix}\\right]\\\\\\left[\\begin{matrix}0 & 0 & \\frac{1}{\\eta^{2}}\\\\0 & 0 & 0\\\\- \\frac{1}{\\eta^{2}} & 0 & 0\\end{matrix}\\right] & \\left[\\begin{matrix}0 & 0 & 0\\\\0 & 0 & - \\frac{1}{\\eta^{2}}\\\\0 & \\frac{1}{\\eta^{2}} & 0\\end{matrix}\\right] & \\left[\\begin{matrix}0 & 0 & 0\\\\0 & 0 & 0\\\\0 & 0 & 0\\end{matrix}\\right]\\end{matrix}\\right]$"
      ],
      "text/plain": [
       "⎡              ⎡     1    ⎤  ⎡        1 ⎤⎤\n",
       "⎢              ⎢ 0   ──  0⎥  ⎢ 0   0  ──⎥⎥\n",
       "⎢              ⎢      2   ⎥  ⎢         2⎥⎥\n",
       "⎢ ⎡0  0  0⎤    ⎢     η    ⎥  ⎢        η ⎥⎥\n",
       "⎢ ⎢       ⎥    ⎢          ⎥  ⎢          ⎥⎥\n",
       "⎢ ⎢0  0  0⎥    ⎢-1        ⎥  ⎢ 0   0  0 ⎥⎥\n",
       "⎢ ⎢       ⎥    ⎢───  0   0⎥  ⎢          ⎥⎥\n",
       "⎢ ⎣0  0  0⎦    ⎢  2       ⎥  ⎢-1        ⎥⎥\n",
       "⎢              ⎢ η        ⎥  ⎢───  0  0 ⎥⎥\n",
       "⎢              ⎢          ⎥  ⎢  2       ⎥⎥\n",
       "⎢              ⎣ 0   0   0⎦  ⎣ η        ⎦⎥\n",
       "⎢                                        ⎥\n",
       "⎢⎡     1    ⎤                ⎡0   0   0 ⎤⎥\n",
       "⎢⎢ 0   ──  0⎥                ⎢          ⎥⎥\n",
       "⎢⎢      2   ⎥                ⎢        1 ⎥⎥\n",
       "⎢⎢     η    ⎥   ⎡0  0  0⎤    ⎢0   0   ──⎥⎥\n",
       "⎢⎢          ⎥   ⎢       ⎥    ⎢         2⎥⎥\n",
       "⎢⎢-1        ⎥   ⎢0  0  0⎥    ⎢        η ⎥⎥\n",
       "⎢⎢───  0   0⎥   ⎢       ⎥    ⎢          ⎥⎥\n",
       "⎢⎢  2       ⎥   ⎣0  0  0⎦    ⎢   -1     ⎥⎥\n",
       "⎢⎢ η        ⎥                ⎢0  ───  0 ⎥⎥\n",
       "⎢⎢          ⎥                ⎢     2    ⎥⎥\n",
       "⎢⎣ 0   0   0⎦                ⎣    η     ⎦⎥\n",
       "⎢                                        ⎥\n",
       "⎢⎡        1 ⎤  ⎡0  0    0 ⎤              ⎥\n",
       "⎢⎢ 0   0  ──⎥  ⎢          ⎥              ⎥\n",
       "⎢⎢         2⎥  ⎢       -1 ⎥              ⎥\n",
       "⎢⎢        η ⎥  ⎢0  0   ───⎥   ⎡0  0  0⎤  ⎥\n",
       "⎢⎢          ⎥  ⎢         2⎥   ⎢       ⎥  ⎥\n",
       "⎢⎢ 0   0  0 ⎥  ⎢        η ⎥   ⎢0  0  0⎥  ⎥\n",
       "⎢⎢          ⎥  ⎢          ⎥   ⎢       ⎥  ⎥\n",
       "⎢⎢-1        ⎥  ⎢   1      ⎥   ⎣0  0  0⎦  ⎥\n",
       "⎢⎢───  0  0 ⎥  ⎢0  ──   0 ⎥              ⎥\n",
       "⎢⎢  2       ⎥  ⎢    2     ⎥              ⎥\n",
       "⎣⎣ η        ⎦  ⎣   η      ⎦              ⎦"
      ]
     },
     "execution_count": 11,
     "metadata": {},
     "output_type": "execute_result"
    }
   ],
   "source": [
    "rm2 = RiemannCurvatureTensor.from_metric(m_obj)\n",
    "rm2.tensor()"
   ]
  },
  {
   "cell_type": "code",
   "execution_count": 12,
   "metadata": {},
   "outputs": [
    {
     "data": {
      "image/png": "[encoded data removed]",
      "text/latex": [
       "$\\displaystyle \\left[\\begin{matrix}- \\frac{2}{\\eta^{2}} & 0 & 0\\\\0 & \\frac{2}{\\eta^{2}} & 0\\\\0 & 0 & \\frac{2}{\\eta^{2}}\\end{matrix}\\right]$"
      ],
      "text/plain": [
       "⎡-2         ⎤\n",
       "⎢───  0   0 ⎥\n",
       "⎢  2        ⎥\n",
       "⎢ η         ⎥\n",
       "⎢           ⎥\n",
       "⎢     2     ⎥\n",
       "⎢ 0   ──  0 ⎥\n",
       "⎢      2    ⎥\n",
       "⎢     η     ⎥\n",
       "⎢           ⎥\n",
       "⎢         2 ⎥\n",
       "⎢ 0   0   ──⎥\n",
       "⎢          2⎥\n",
       "⎣         η ⎦"
      ]
     },
     "execution_count": 12,
     "metadata": {},
     "output_type": "execute_result"
    }
   ],
   "source": [
    "#calculate Ricci tensor from metric:\n",
    "ricci = RicciTensor.from_metric(m_obj)\n",
    "ricci.tensor()"
   ]
  },
  {
   "cell_type": "code",
   "execution_count": 13,
   "metadata": {},
   "outputs": [
    {
     "data": {
      "image/png": "[encoded data removed]",
      "text/latex": [
       "$\\displaystyle 6 H^{2}$"
      ],
      "text/plain": [
       "   2\n",
       "6⋅H "
      ]
     },
     "execution_count": 13,
     "metadata": {},
     "output_type": "execute_result"
    }
   ],
   "source": [
    "#calculate Ricci scalar from metric:\n",
    "ricci_scalar = RicciScalar.from_metric(m_obj)\n",
    "ricci_scalar.expr"
   ]
  },
  {
   "cell_type": "code",
   "execution_count": null,
   "metadata": {},
   "outputs": [],
   "source": []
  }
 ],
 "metadata": {
  "kernelspec": {
   "display_name": "Python 3",
   "language": "python",
   "name": "python3"
  },
  "language_info": {
   "codemirror_mode": {
    "name": "ipython",
    "version": 3
   },
   "file_extension": ".py",
   "mimetype": "text/x-python",
   "name": "python",
   "nbconvert_exporter": "python",
   "pygments_lexer": "ipython3",
   "version": "3.9.0"
  },
  "orig_nbformat": 4
 },
 "nbformat": 4,
 "nbformat_minor": 2
}
